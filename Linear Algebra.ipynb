{
 "cells": [
  {
   "cell_type": "code",
   "execution_count": 119,
   "id": "2d1b0f8a",
   "metadata": {},
   "outputs": [],
   "source": [
    "import numpy as np\n",
    "import matplotlib.pyplot as plt\n",
    "from mpl_toolkits.mplot3d import Axes3D"
   ]
  },
  {
   "cell_type": "code",
   "execution_count": 120,
   "id": "63ba0f8f",
   "metadata": {},
   "outputs": [
    {
     "data": {
      "text/plain": [
       "([2, 8], [5, 7, 28])"
      ]
     },
     "execution_count": 120,
     "metadata": {},
     "output_type": "execute_result"
    }
   ],
   "source": [
    "v=[2,8]\n",
    "u=[5,7,28]\n",
    "v,u"
   ]
  },
  {
   "cell_type": "code",
   "execution_count": 121,
   "id": "c32277d5",
   "metadata": {},
   "outputs": [
    {
     "data": {
      "text/plain": [
       "list"
      ]
     },
     "execution_count": 121,
     "metadata": {},
     "output_type": "execute_result"
    }
   ],
   "source": [
    "type(v)"
   ]
  },
  {
   "cell_type": "code",
   "execution_count": 122,
   "id": "df5df3ef",
   "metadata": {},
   "outputs": [
    {
     "data": {
      "text/plain": [
       "numpy.ndarray"
      ]
     },
     "execution_count": 122,
     "metadata": {},
     "output_type": "execute_result"
    }
   ],
   "source": [
    "w=np.array([40,22,12])\n",
    "type(w)"
   ]
  },
  {
   "cell_type": "code",
   "execution_count": 123,
   "id": "2daaf4cd",
   "metadata": {},
   "outputs": [
    {
     "data": {
      "text/plain": [
       "3"
      ]
     },
     "execution_count": 123,
     "metadata": {},
     "output_type": "execute_result"
    }
   ],
   "source": [
    "w.shape[0]"
   ]
  },
  {
   "cell_type": "code",
   "execution_count": 124,
   "id": "8a51be49",
   "metadata": {},
   "outputs": [
    {
     "data": {
      "text/plain": [
       "(3,)"
      ]
     },
     "execution_count": 124,
     "metadata": {},
     "output_type": "execute_result"
    }
   ],
   "source": [
    "w.shape"
   ]
  },
  {
   "cell_type": "code",
   "execution_count": 125,
   "id": "a7a04370",
   "metadata": {},
   "outputs": [
    {
     "data": {
      "text/plain": [
       "array([28,  5,  7, 40, 22,  2,  8])"
      ]
     },
     "execution_count": 125,
     "metadata": {},
     "output_type": "execute_result"
    }
   ],
   "source": [
    "a= np.array([28,5,7,40,22,2,8])\n",
    "a"
   ]
  },
  {
   "cell_type": "code",
   "execution_count": 126,
   "id": "7dc5af87",
   "metadata": {},
   "outputs": [
    {
     "data": {
      "text/plain": [
       "np.int64(28)"
      ]
     },
     "execution_count": 126,
     "metadata": {},
     "output_type": "execute_result"
    }
   ],
   "source": [
    "a[0]"
   ]
  },
  {
   "cell_type": "code",
   "execution_count": 127,
   "id": "f8c5e000",
   "metadata": {},
   "outputs": [
    {
     "data": {
      "text/plain": [
       "array([ 5,  7, 40, 22,  2,  8])"
      ]
     },
     "execution_count": 127,
     "metadata": {},
     "output_type": "execute_result"
    }
   ],
   "source": [
    "a[1:]"
   ]
  },
  {
   "cell_type": "code",
   "execution_count": 128,
   "id": "169c97a5",
   "metadata": {},
   "outputs": [
    {
     "data": {
      "text/plain": [
       "array([28,  5,  7, 40, 22,  2])"
      ]
     },
     "execution_count": 128,
     "metadata": {},
     "output_type": "execute_result"
    }
   ],
   "source": [
    "a[:6]"
   ]
  },
  {
   "cell_type": "code",
   "execution_count": 129,
   "id": "c07181d6",
   "metadata": {},
   "outputs": [
    {
     "data": {
      "text/plain": [
       "array([ 7, 40, 22,  2,  8])"
      ]
     },
     "execution_count": 129,
     "metadata": {},
     "output_type": "execute_result"
    }
   ],
   "source": [
    "a[2:7]"
   ]
  },
  {
   "cell_type": "code",
   "execution_count": 130,
   "id": "22e7441d",
   "metadata": {},
   "outputs": [
    {
     "data": {
      "text/plain": [
       "np.int64(8)"
      ]
     },
     "execution_count": 130,
     "metadata": {},
     "output_type": "execute_result"
    }
   ],
   "source": [
    "a[-1]"
   ]
  },
  {
   "cell_type": "code",
   "execution_count": 131,
   "id": "0fbdf17b",
   "metadata": {},
   "outputs": [
    {
     "data": {
      "text/plain": [
       "np.int64(40)"
      ]
     },
     "execution_count": 131,
     "metadata": {},
     "output_type": "execute_result"
    }
   ],
   "source": [
    "a[-4]"
   ]
  },
  {
   "cell_type": "code",
   "execution_count": 132,
   "id": "309954c9",
   "metadata": {},
   "outputs": [
    {
     "data": {
      "text/plain": [
       "array([ 7, 40, 22,  2])"
      ]
     },
     "execution_count": 132,
     "metadata": {},
     "output_type": "execute_result"
    }
   ],
   "source": [
    "a[-5:-1]"
   ]
  },
  {
   "cell_type": "code",
   "execution_count": 133,
   "id": "4e6b0876",
   "metadata": {},
   "outputs": [
    {
     "data": {
      "text/plain": [
       "[<matplotlib.lines.Line2D at 0x7f3e185782d0>]"
      ]
     },
     "execution_count": 133,
     "metadata": {},
     "output_type": "execute_result"
    },
    {
     "data": {
      "image/png": "[encoded data removed]",
      "text/plain": [
       "<Figure size 640x480 with 1 Axes>"
      ]
     },
     "metadata": {},
     "output_type": "display_data"
    }
   ],
   "source": [
    "v=[2,8]\n",
    "u=[5,7,40]\n",
    "plt.plot(v)"
   ]
  },
  {
   "cell_type": "code",
   "execution_count": 134,
   "id": "bd2973cb",
   "metadata": {},
   "outputs": [
    {
     "data": {
      "text/plain": [
       "[<matplotlib.lines.Line2D at 0x7f3e185ca850>]"
      ]
     },
     "execution_count": 134,
     "metadata": {},
     "output_type": "execute_result"
    },
    {
     "data": {
      "image/png": "[encoded data removed]",
      "text/plain": [
       "<Figure size 640x480 with 1 Axes>"
      ]
     },
     "metadata": {},
     "output_type": "display_data"
    }
   ],
   "source": [
    "plt.plot (u)"
   ]
  },
  {
   "cell_type": "code",
   "execution_count": 135,
   "id": "08eb8e35",
   "metadata": {},
   "outputs": [
    {
     "data": {
      "text/plain": [
       "[<matplotlib.lines.Line2D at 0x7f3e18623b10>]"
      ]
     },
     "execution_count": 135,
     "metadata": {},
     "output_type": "execute_result"
    },
    {
     "data": {
      "image/png": "[encoded data removed]",
      "text/plain": [
       "<Figure size 640x480 with 1 Axes>"
      ]
     },
     "metadata": {},
     "output_type": "display_data"
    }
   ],
   "source": [
    "plt.plot([0,v[0]], [0,v[1]])"
   ]
  },
  {
   "cell_type": "code",
   "execution_count": 136,
   "id": "e322855b",
   "metadata": {},
   "outputs": [
    {
     "data": {
      "text/plain": [
       "[<mpl_toolkits.mplot3d.art3d.Line3D at 0x7f3e18462850>]"
      ]
     },
     "execution_count": 136,
     "metadata": {},
     "output_type": "execute_result"
    },
    {
     "data": {
      "image/png": "[encoded data removed]",
      "text/plain": [
       "<Figure size 640x480 with 1 Axes>"
      ]
     },
     "metadata": {},
     "output_type": "display_data"
    }
   ],
   "source": [
    "fig= plt.figure()\n",
    "ax = fig.add_subplot(111, projection='3d' , auto_add_to_figure=False)\n",
    "u= [2,5,7]\n",
    "ax.plot([0, u[0]] , [0, u[1]] , [0,u[2]])\n",
    "ax.set_box_aspect([1,1,1])\n",
    "ax.plot([0,0] , [0,0] , [-5,5], 'k--')\n",
    "ax.plot([0,0] , [-5,5] , [0,0], 'k--')\n",
    "ax.plot([-5,5] , [0,0] , [0,0], 'k--')"
   ]
  },
  {
   "cell_type": "code",
   "execution_count": 137,
   "id": "a281ac4c",
   "metadata": {},
   "outputs": [
    {
     "name": "stdout",
     "output_type": "stream",
     "text": [
      "V3 = [4 6]\n"
     ]
    },
    {
     "data": {
      "image/png": "[encoded data removed]",
      "text/plain": [
       "<Figure size 640x480 with 1 Axes>"
      ]
     },
     "metadata": {},
     "output_type": "display_data"
    }
   ],
   "source": [
    "v1= np.array([1,2])\n",
    "v2= np.array([3,4])\n",
    "v3=v1+v2\n",
    "v3=np.add(v1,v2)\n",
    "print('V3 =',v3)\n",
    "plt.plot([0,v1[0]] , [0,v1[1]] , 'r' , label='v1')\n",
    "plt.plot([0,v2[0]] , [0,v2[1]] , 'g' , label='v2')\n",
    "plt.plot([0,v3[0]] , [0,v3[1]] , 'b' , label ='v3')\n",
    "plt.plot([8,-8]  , [0,0] , 'k--')\n",
    "plt.plot([0,0]  ,[8,-8] , 'k--')\n",
    "plt.grid()\n",
    "plt.axis((-8,8,-8,8))\n",
    "plt.legend()\n",
    "plt.show()"
   ]
  },
  {
   "cell_type": "code",
   "execution_count": 138,
   "id": "c42ae0e0",
   "metadata": {},
   "outputs": [
    {
     "data": {
      "text/plain": [
       "<matplotlib.legend.Legend at 0x7f3e18398550>"
      ]
     },
     "execution_count": 138,
     "metadata": {},
     "output_type": "execute_result"
    },
    {
     "data": {
      "image/png": "[encoded data removed]",
      "text/plain": [
       "<Figure size 640x480 with 1 Axes>"
      ]
     },
     "metadata": {},
     "output_type": "display_data"
    }
   ],
   "source": [
    "plt.plot([0,v1[0]] , [0,v1[1]] , 'r' , label='v1')\n",
    "plt.plot([0,v2[0]]+v1[0] , [0,v2[1]]+v1[1] , 'g' , label='v2')\n",
    "plt.plot([0,v3[0]] , [0,v3[1]] , 'b' , label='v3')\n",
    "plt.plot([8,-8] , [0,0] , 'k--')\n",
    "plt.plot([0,0] , [8,-8] , 'k--')\n",
    "plt.grid()\n",
    "plt.axis((-8,8,-8,8))\n",
    "plt.legend()\n"
   ]
  },
  {
   "cell_type": "code",
   "execution_count": 139,
   "id": "5fd7e7c4",
   "metadata": {},
   "outputs": [
    {
     "data": {
      "text/plain": [
       "<function matplotlib.pyplot.legend(*args, **kwargs) -> 'Legend'>"
      ]
     },
     "execution_count": 139,
     "metadata": {},
     "output_type": "execute_result"
    },
    {
     "data": {
      "image/png": "[encoded data removed]",
      "text/plain": [
       "<Figure size 640x480 with 1 Axes>"
      ]
     },
     "metadata": {},
     "output_type": "display_data"
    }
   ],
   "source": [
    "u1=np.array([5,7])\n",
    "a= -.3\n",
    "u2 =u1*a\n",
    "plt.plot([0,u1[0]] , [1,u1[1]] , 'r' , label = 'u1')\n",
    "plt.plot([0,u2[0]] , [1,u2[1]] , 'g' , label = 'u2')\n",
    "plt.plot([8,-8] , [0,0] , 'k--')\n",
    "plt.plot([0,0] , [8,-8] , 'k--')\n",
    "plt.grid()\n",
    "plt.axis((-8,8,-8,8))\n",
    "plt.legend"
   ]
  },
  {
   "cell_type": "code",
   "execution_count": 140,
   "id": "45a8652d",
   "metadata": {},
   "outputs": [
    {
     "name": "stdout",
     "output_type": "stream",
     "text": [
      "[ 14 320 110]\n"
     ]
    }
   ],
   "source": [
    "a1 = [2, 8 ,5]\n",
    "a2 = [7, 40 , 22]\n",
    "print(np.multiply(a1,a2))"
   ]
  },
  {
   "cell_type": "code",
   "execution_count": 141,
   "id": "c9a45d11",
   "metadata": {},
   "outputs": [
    {
     "name": "stdout",
     "output_type": "stream",
     "text": [
      "Dot product: 438\n",
      "Dot product using np.dot: 438\n",
      "Dot product using np.inner: 438\n",
      "Dot product usign np.multiply & sum 438\n",
      "Dot product usign np.matmul 438\n"
     ]
    }
   ],
   "source": [
    "a1 = np.array([2,8,5])\n",
    "a2 = np.array([7,28,40])\n",
    "\n",
    "dotp=a1@a2\n",
    "print(\"Dot product:\",dotp)\n",
    "\n",
    "dotp=np.dot(a1,a2)\n",
    "print(\"Dot product using np.dot:\",dotp)\n",
    "dotp=np.inner(a1,a2)\n",
    "print(\"Dot product using np.inner:\",dotp)\n",
    "dotp=sum(np.multiply(a1,a2))\n",
    "print(\"Dot product usign np.multiply & sum\",dotp)\n",
    "dotp=np.matmul(a1,a2)\n",
    "print(\"Dot product usign np.matmul\",dotp)"
   ]
  },
  {
   "cell_type": "code",
   "execution_count": 142,
   "id": "e5f87148",
   "metadata": {},
   "outputs": [
    {
     "data": {
      "text/plain": [
       "np.float64(47.18050444834179)"
      ]
     },
     "execution_count": 142,
     "metadata": {},
     "output_type": "execute_result"
    }
   ],
   "source": [
    "v3=np.array([2,8,5,7,22,40])\n",
    "len=np.sqrt(sum(np.multiply(v3,v3)))\n",
    "len"
   ]
  },
  {
   "cell_type": "code",
   "execution_count": 143,
   "id": "0a431c4e",
   "metadata": {},
   "outputs": [
    {
     "data": {
      "text/plain": [
       "np.float64(47.18050444834179)"
      ]
     },
     "execution_count": 143,
     "metadata": {},
     "output_type": "execute_result"
    }
   ],
   "source": [
    "v3=np.array([2,8,5,7,22,40])\n",
    "len=np.sqrt(np.matmul(v3,v3))\n",
    "len"
   ]
  },
  {
   "cell_type": "code",
   "execution_count": 144,
   "id": "585f6563",
   "metadata": {},
   "outputs": [
    {
     "data": {
      "text/plain": [
       "(np.float64(8.602325267042627), array([0.58123819, 0.81373347]))"
      ]
     },
     "execution_count": 144,
     "metadata": {},
     "output_type": "execute_result"
    }
   ],
   "source": [
    "v1= [5,7]\n",
    "len_v1 = np.sqrt(np.dot(v1,v1))\n",
    "norm_v1 = v1/len_v1\n",
    "len_v1, norm_v1"
   ]
  },
  {
   "cell_type": "code",
   "execution_count": 145,
   "id": "7f8f44d6",
   "metadata": {},
   "outputs": [
    {
     "data": {
      "text/plain": [
       "array([0.58123819, 0.81373347])"
      ]
     },
     "execution_count": 145,
     "metadata": {},
     "output_type": "execute_result"
    }
   ],
   "source": [
    "v1= [5,7]\n",
    "norm_v1 = v1/np.linalg.norm(v1)\n",
    "norm_v1"
   ]
  },
  {
   "cell_type": "code",
   "execution_count": 146,
   "id": "c0018518",
   "metadata": {},
   "outputs": [
    {
     "data": {
      "image/png": "[encoded data removed]",
      "text/plain": [
       "<Figure size 640x480 with 1 Axes>"
      ]
     },
     "metadata": {},
     "output_type": "display_data"
    }
   ],
   "source": [
    "v1 = np.array([8,4])\n",
    "v2 = np.array([-4,8])\n",
    "ang = np.rad2deg(np.arccos( np.dot(v1,v2) / (np.linalg.norm(v1)*np.linalg.norm(v2))))\n",
    "plt.plot([0,v1[0]] , [0,v1[1]] , 'r' , label = 'v1')\n",
    "plt.plot([0,v2[0]]+v1[0] , [0,v2[1]]+v1[1], 'b' , label = 'v2')\n",
    "plt.plot([16,-16] , [0,0] , 'k--')\n",
    "plt.plot([0,0] , [16,-16] , 'k--')\n",
    "plt.grid()\n",
    "plt.axis((-16, 16, -16, 16))\n",
    "plt.legend()\n",
    "plt.title('Angle between Vectors - %s'  %ang)\n",
    "plt.show()"
   ]
  },
  {
   "cell_type": "code",
   "execution_count": 147,
   "id": "c42fb810",
   "metadata": {},
   "outputs": [
    {
     "name": "stdout",
     "output_type": "stream",
     "text": [
      "Angle between Vectors - 90.0\n"
     ]
    }
   ],
   "source": [
    "v1 = np.array([4,3])\n",
    "v2 = np.array([-3,4])\n",
    "lengthV1 = np.sqrt(np.dot(v1,v1)) \n",
    "lengthV2  = np.sqrt(np.dot(v2,v2))\n",
    "ang = np.rad2deg(np.arccos( np.dot(v1,v2) / (lengthV1 * lengthV2)))\n",
    "print('Angle between Vectors - %s' %ang)"
   ]
  },
  {
   "cell_type": "code",
   "execution_count": 148,
   "id": "48e19456",
   "metadata": {},
   "outputs": [
    {
     "data": {
      "image/png": "[encoded data removed]",
      "text/plain": [
       "<Figure size 640x480 with 1 Axes>"
      ]
     },
     "metadata": {},
     "output_type": "display_data"
    }
   ],
   "source": [
    "v1 = np.array([1,2,-3])\n",
    "v2 = np.array([7,-4,2])\n",
    "\n",
    "fig = plt.figure()\n",
    "ax = fig.add_subplot(111, projection='3d')\n",
    "ax.plot([0, v1[0]], [0, v1[1]], [0, v1[2]], 'b')\n",
    "ax.plot([0, v2[0]], [0, v2[1]], [0, v2[2]], 'r')\n",
    "\n",
    "ang = np.rad2deg(np.arccos(np.dot(v1, v2) / (np.linalg.norm(v1) * np.linalg.norm(v2))))\n",
    "plt.title('Angle between vectors: %s degrees.' % ang)\n",
    "\n",
    "plt.show()"
   ]
  },
  {
   "cell_type": "code",
   "execution_count": 149,
   "id": "f4620e9a",
   "metadata": {},
   "outputs": [
    {
     "name": "stdout",
     "output_type": "stream",
     "text": [
      "\n",
      "Vector Cross Product: [ 204  266 -182]\n"
     ]
    }
   ],
   "source": [
    "v1=np.array ([2,8,5])\n",
    "v1=np.array ([7,22,40])\n",
    "print(\"\\nVector Cross Product:\" , np.cross(v1,v2))"
   ]
  },
  {
   "cell_type": "code",
   "execution_count": 150,
   "id": "4feb0482",
   "metadata": {},
   "outputs": [
    {
     "data": {
      "text/plain": [
       "(array([[ 2,  8,  5],\n",
       "        [ 7, 10, 15],\n",
       "        [22, 28, 40]]),\n",
       " numpy.ndarray,\n",
       " dtype('int64'),\n",
       " (3, 3),\n",
       " np.int64(8),\n",
       " array([ 2,  7, 22]),\n",
       " np.int64(2),\n",
       " np.int64(2),\n",
       " array([[10, 15],\n",
       "        [28, 40]]))"
      ]
     },
     "execution_count": 150,
     "metadata": {},
     "output_type": "execute_result"
    }
   ],
   "source": [
    "a=np.array ([[2,8,5] , [7,10,15] , [22,28,40,]])\n",
    "a, type(a), a.dtype, a.shape,a[0,1],a[:,0],a[0,0], a[0][0], a[1:3 , 1:3]"
   ]
  },
  {
   "cell_type": "code",
   "execution_count": 151,
   "id": "7abbcbb3",
   "metadata": {},
   "outputs": [
    {
     "data": {
      "text/plain": [
       "array([[0., 0., 0.],\n",
       "       [0., 0., 0.],\n",
       "       [0., 0., 0.]])"
      ]
     },
     "execution_count": 151,
     "metadata": {},
     "output_type": "execute_result"
    }
   ],
   "source": [
    "np.zeros(9).reshape(3,3)"
   ]
  },
  {
   "cell_type": "code",
   "execution_count": 152,
   "id": "873cb757",
   "metadata": {},
   "outputs": [
    {
     "data": {
      "text/plain": [
       "array([[1., 1., 1.],\n",
       "       [1., 1., 1.],\n",
       "       [1., 1., 1.]])"
      ]
     },
     "execution_count": 152,
     "metadata": {},
     "output_type": "execute_result"
    }
   ],
   "source": [
    "np.ones(9).reshape(3,3)"
   ]
  },
  {
   "cell_type": "code",
   "execution_count": 153,
   "id": "5b848bb8",
   "metadata": {},
   "outputs": [
    {
     "data": {
      "text/plain": [
       "array([[0.78369348, 0.4066649 , 0.03909453],\n",
       "       [0.9516883 , 0.83757838, 0.13567623],\n",
       "       [0.13457342, 0.69550806, 0.13305251]])"
      ]
     },
     "execution_count": 153,
     "metadata": {},
     "output_type": "execute_result"
    }
   ],
   "source": [
    "X=np.random.random((3,3))\n",
    "X"
   ]
  },
  {
   "cell_type": "code",
   "execution_count": 154,
   "id": "0fb1a9c4",
   "metadata": {},
   "outputs": [
    {
     "data": {
      "text/plain": [
       "array([[1., 0., 0.],\n",
       "       [0., 1., 0.],\n",
       "       [0., 0., 1.]])"
      ]
     },
     "execution_count": 154,
     "metadata": {},
     "output_type": "execute_result"
    }
   ],
   "source": [
    "I=np.eye(3)\n",
    "I"
   ]
  },
  {
   "cell_type": "code",
   "execution_count": 155,
   "id": "41201ad7",
   "metadata": {},
   "outputs": [
    {
     "data": {
      "text/plain": [
       "array([[2, 0, 0, 0],\n",
       "       [0, 5, 0, 0],\n",
       "       [0, 0, 7, 0],\n",
       "       [0, 0, 0, 8]])"
      ]
     },
     "execution_count": 155,
     "metadata": {},
     "output_type": "execute_result"
    }
   ],
   "source": [
    "D= np.diag([2,5,7,8])\n",
    "D"
   ]
  },
  {
   "cell_type": "code",
   "execution_count": 156,
   "id": "c2c39156",
   "metadata": {},
   "outputs": [
    {
     "name": "stdout",
     "output_type": "stream",
     "text": [
      "lower triangular matrix - \n",
      " [[5 9 5]\n",
      " [3 3 1]\n",
      " [7 9 7]]\n",
      "\n",
      "\n",
      "lower triangular matrix - \n",
      " [[5 0 0]\n",
      " [3 3 0]\n",
      " [7 9 7]]\n",
      "\n",
      "\n",
      "Upper triangular matrix - \n",
      " [[5 9 5]\n",
      " [0 3 1]\n",
      " [0 0 7]]\n"
     ]
    }
   ],
   "source": [
    "M=np.random.randint(0,10, size=(3,3))\n",
    "U=np.triu(M)\n",
    "L=np.tril(M)\n",
    "print(\"lower triangular matrix - \\n\" , M)\n",
    "print(\"\\n\")\n",
    "\n",
    "print(\"lower triangular matrix - \\n\" , L)\n",
    "print(\"\\n\")\n",
    "\n",
    "print(\"Upper triangular matrix - \\n\" , U)"
   ]
  },
  {
   "cell_type": "code",
   "execution_count": 157,
   "id": "15f5d272",
   "metadata": {},
   "outputs": [
    {
     "data": {
      "text/plain": [
       "(array([[ 2,  5],\n",
       "        [ 7,  8],\n",
       "        [22, 40],\n",
       "        [ 1,  1],\n",
       "        [ 1,  1]]),\n",
       " (5, 2),\n",
       " numpy.ndarray,\n",
       " dtype('int64'))"
      ]
     },
     "execution_count": 157,
     "metadata": {},
     "output_type": "execute_result"
    }
   ],
   "source": [
    "a=np.array([[2,5] , [7,8] , [22,40]])\n",
    "b=np.array([[1,1] , [1,1]])\n",
    "c=np.concatenate((a,b))\n",
    "c, c.shape , type(c) , c.dtype"
   ]
  },
  {
   "cell_type": "code",
   "execution_count": 158,
   "id": "d71cb2dd",
   "metadata": {},
   "outputs": [
    {
     "data": {
      "text/plain": [
       "array([[8, 8, 8],\n",
       "       [8, 8, 8],\n",
       "       [8, 8, 8]])"
      ]
     },
     "execution_count": 158,
     "metadata": {},
     "output_type": "execute_result"
    }
   ],
   "source": [
    "np.full((3,3) , 8)"
   ]
  },
  {
   "cell_type": "code",
   "execution_count": 159,
   "id": "8fa3ac72",
   "metadata": {},
   "outputs": [
    {
     "data": {
      "text/plain": [
       "array([[5, 9, 5],\n",
       "       [3, 3, 1],\n",
       "       [7, 9, 7]])"
      ]
     },
     "execution_count": 159,
     "metadata": {},
     "output_type": "execute_result"
    }
   ],
   "source": [
    "M"
   ]
  },
  {
   "cell_type": "code",
   "execution_count": 160,
   "id": "8ad669c6",
   "metadata": {},
   "outputs": [
    {
     "data": {
      "text/plain": [
       "array([5, 9, 5, 3, 3, 1, 7, 9, 7])"
      ]
     },
     "execution_count": 160,
     "metadata": {},
     "output_type": "execute_result"
    }
   ],
   "source": [
    "M.flatten()"
   ]
  },
  {
   "cell_type": "code",
   "execution_count": 161,
   "id": "bc5c8897",
   "metadata": {},
   "outputs": [
    {
     "name": "stdout",
     "output_type": "stream",
     "text": [
      "\n",
      " First Matrix (M)  ==>  \n",
      " [[ 2  5  7]\n",
      " [ 8 10 15]\n",
      " [22 28 40]]\n",
      "\n",
      " Second Matrix (N)  ==>  \n",
      " [[1 2 3]\n",
      " [4 5 6]\n",
      " [7 8 9]]\n",
      "\n",
      " Matrix Addition (M+N)  ==>  \n",
      " [[ 3  7 10]\n",
      " [12 15 21]\n",
      " [29 36 49]]\n"
     ]
    }
   ],
   "source": [
    "M=np.array([[2,5,7] , [8,10,15] , [22,28,40]])\n",
    "N=np.array([[1,2,3] , [4,5,6] , [7,8,9]])\n",
    "print(\"\\n First Matrix (M)  ==>  \\n\", M)\n",
    "print(\"\\n Second Matrix (N)  ==>  \\n\", N)\n",
    "\n",
    "Z=M+N\n",
    "print(\"\\n Matrix Addition (M+N)  ==>  \\n\", Z)"
   ]
  },
  {
   "cell_type": "code",
   "execution_count": 162,
   "id": "3f130264",
   "metadata": {},
   "outputs": [
    {
     "name": "stdout",
     "output_type": "stream",
     "text": [
      "\n",
      " First Matrix (M)  ==>  \n",
      " [[ 2  5  7]\n",
      " [ 8 10 15]\n",
      " [22 28 40]]\n",
      "\n",
      " Second Matrix (N)  ==>  \n",
      " [[1 2 3]\n",
      " [4 5 6]\n",
      " [7 8 9]]\n",
      "\n",
      " Matrix Addition (M+N)  ==>  \n",
      " [[ 1  3  4]\n",
      " [ 4  5  9]\n",
      " [15 20 31]]\n"
     ]
    }
   ],
   "source": [
    "M=np.array([[2,5,7] , [8,10,15] , [22,28,40]])\n",
    "N=np.array([[1,2,3] , [4,5,6] , [7,8,9]])\n",
    "print(\"\\n First Matrix (M)  ==>  \\n\", M)\n",
    "print(\"\\n Second Matrix (N)  ==>  \\n\", N)\n",
    "\n",
    "Z=M-N\n",
    "print(\"\\n Matrix Addition (M+N)  ==>  \\n\", Z)"
   ]
  },
  {
   "cell_type": "code",
   "execution_count": 163,
   "id": "be27b7cd",
   "metadata": {},
   "outputs": [
    {
     "name": "stdout",
     "output_type": "stream",
     "text": [
      "\n",
      " Matrix (M)  ==>  \n",
      " [[ 2  5  7]\n",
      " [ 8 10 15]\n",
      " [22 28 40]]\n",
      "\n",
      "Matrices Scalar Multiplication ==>  \n",
      " [[ 20  50  70]\n",
      " [ 80 100 150]\n",
      " [220 280 400]]\n"
     ]
    }
   ],
   "source": [
    "M= np.array([[2,5,7] , [8,10,15] , [22,28,40]])\n",
    "C=10\n",
    "print(\"\\n Matrix (M)  ==>  \\n\", M)\n",
    "print(\"\\nMatrices Scalar Multiplication ==>  \\n\", C*M)"
   ]
  },
  {
   "cell_type": "code",
   "execution_count": 164,
   "id": "6bd7b759",
   "metadata": {},
   "outputs": [
    {
     "name": "stdout",
     "output_type": "stream",
     "text": [
      "\n",
      " Matrix (M)  ==>  \n",
      " [[ 2  5  7]\n",
      " [ 8 10 15]\n",
      " [22 28 40]]\n",
      "\n",
      "Matrices Scalar Multiplication ==>  \n",
      " [[ 20  50  70]\n",
      " [ 80 100 150]\n",
      " [220 280 400]]\n"
     ]
    }
   ],
   "source": [
    "M= np.array([[2,5,7] , [8,10,15] , [22,28,40]])\n",
    "print(\"\\n Matrix (M)  ==>  \\n\", M)\n",
    "print(\"\\nMatrices Scalar Multiplication ==>  \\n\", 10*M)"
   ]
  },
  {
   "cell_type": "code",
   "execution_count": 165,
   "id": "ff60b811",
   "metadata": {},
   "outputs": [
    {
     "name": "stdout",
     "output_type": "stream",
     "text": [
      "\n",
      " Matrix (M)  ==>  \n",
      " [[ 2  5  7]\n",
      " [ 8 10 15]\n",
      " [22 28 40]]\n",
      "\n",
      "Transpose of M ==> \n",
      " [[ 2  8 22]\n",
      " [ 5 10 28]\n",
      " [ 7 15 40]]\n"
     ]
    }
   ],
   "source": [
    "M= np.array([[2,5,7] , [8,10,15] , [22,28,40]])\n",
    "\n",
    "print(\"\\n Matrix (M)  ==>  \\n\", M)\\\n",
    "\n",
    "print(\"\\nTranspose of M ==> \\n\", M.T)"
   ]
  },
  {
   "cell_type": "code",
   "execution_count": 166,
   "id": "5e2f56c7",
   "metadata": {},
   "outputs": [
    {
     "name": "stdout",
     "output_type": "stream",
     "text": [
      "\n",
      " Matrix (M)  ==>  \n",
      " [[ 2  5  7]\n",
      " [ 8 10 15]\n",
      " [22 28 40]]\n",
      "\n",
      "Determinant of M ==> \n",
      " 37.99999999999993\n"
     ]
    }
   ],
   "source": [
    "M= np.array([[2,5,7] , [8,10,15] , [22,28,40]])\n",
    "\n",
    "print(\"\\n Matrix (M)  ==>  \\n\", M)\n",
    "\n",
    "print(\"\\nDeterminant of M ==> \\n\" , np.linalg.det(M))\n"
   ]
  },
  {
   "cell_type": "code",
   "execution_count": 167,
   "id": "7a8e0e38",
   "metadata": {},
   "outputs": [
    {
     "name": "stdout",
     "output_type": "stream",
     "text": [
      "\n",
      " Matrix (M)  ==>  \n",
      " [[ 2  5  7]\n",
      " [ 8 10 15]\n",
      " [22 28 40]]\n",
      "\n",
      "Trace of M ==> \n",
      " 52\n"
     ]
    }
   ],
   "source": [
    "M= np.array([[2,5,7] , [8,10,15] , [22,28,40]])\n",
    "\n",
    "print(\"\\n Matrix (M)  ==>  \\n\", M)\n",
    "\n",
    "print(\"\\nTrace of M ==> \\n\", np.trace(M))"
   ]
  },
  {
   "cell_type": "code",
   "execution_count": 168,
   "id": "9b13eb53",
   "metadata": {},
   "outputs": [
    {
     "name": "stdout",
     "output_type": "stream",
     "text": [
      "\n",
      " Matrix (M)  ==>  \n",
      " [[ 2  5  7]\n",
      " [ 8 10 15]\n",
      " [22 28 40]]\n",
      "\n",
      "Inverse of M ==> \n",
      " [[-0.52631579 -0.10526316  0.13157895]\n",
      " [ 0.26315789 -1.94736842  0.68421053]\n",
      " [ 0.10526316  1.42105263 -0.52631579]]\n"
     ]
    }
   ],
   "source": [
    "M= np.array([[2,5,7] , [8,10,15] , [22,28,40]])\n",
    "\n",
    "print(\"\\n Matrix (M)  ==>  \\n\", M)\n",
    "\n",
    "print(\"\\nInverse of M ==> \\n\" , np.linalg.inv(M))"
   ]
  },
  {
   "cell_type": "code",
   "execution_count": 169,
   "id": "67cff866",
   "metadata": {},
   "outputs": [
    {
     "name": "stdout",
     "output_type": "stream",
     "text": [
      "\n",
      " Matrix (M)  ==>  \n",
      " [[ 2  5  7]\n",
      " [ 8 10 15]\n",
      " [22 28 40]]\n",
      "\n",
      " Matrix (N)  ==>  \n",
      " [[40 28 22]\n",
      " [25 10  8]\n",
      " [ 7  5  2]]\n",
      "\n",
      " Pointwise Multiplication of M & N ==> \n",
      " [[ 80 140 154]\n",
      " [200 100 120]\n",
      " [154 140  80]]\n"
     ]
    }
   ],
   "source": [
    "M= np.array([[2,5,7] , [8,10,15] , [22,28,40]])\n",
    "N= np.array([[40,28,22] , [25,10,8] , [7,5,2]])\n",
    "\n",
    "print(\"\\n Matrix (M)  ==>  \\n\", M)\n",
    "print(\"\\n Matrix (N)  ==>  \\n\", N)\n",
    "\n",
    "print(\"\\n Pointwise Multiplication of M & N ==> \\n\", np.multiply(M,N))"
   ]
  },
  {
   "cell_type": "code",
   "execution_count": 170,
   "id": "13e77c3e",
   "metadata": {},
   "outputs": [
    {
     "name": "stdout",
     "output_type": "stream",
     "text": [
      "\n",
      " Matrix (M)  ==>  \n",
      " [[ 2  5  7]\n",
      " [ 8 10 15]\n",
      " [22 28 40]]\n",
      "\n",
      " Matrix (N)  ==>  \n",
      " [[40 28 22]\n",
      " [25 10  8]\n",
      " [ 7  5  2]]\n",
      "\n",
      " Matrix Dot Product @ ==> \n",
      " [[ 254  141   98]\n",
      " [ 675  399  286]\n",
      " [1860 1096  788]]\n",
      "\n",
      " Matrix Dot Product matmul ==> \n",
      " [[ 254  141   98]\n",
      " [ 675  399  286]\n",
      " [1860 1096  788]]\n",
      "\n",
      " Matrix Dot Product dot ==> \n",
      " [[ 254  141   98]\n",
      " [ 675  399  286]\n",
      " [1860 1096  788]]\n"
     ]
    }
   ],
   "source": [
    "M= np.array([[2,5,7] , [8,10,15] , [22,28,40]])\n",
    "N= np.array([[40,28,22] , [25,10,8] , [7,5,2]])\n",
    "\n",
    "print(\"\\n Matrix (M)  ==>  \\n\", M)\n",
    "print(\"\\n Matrix (N)  ==>  \\n\", N)\n",
    "\n",
    "print(\"\\n Matrix Dot Product @ ==> \\n\" , M@N)\n",
    "print(\"\\n Matrix Dot Product matmul ==> \\n\" , np.matmul(M,N))\n",
    "print(\"\\n Matrix Dot Product dot ==> \\n\" , np.dot(M,N))"
   ]
  },
  {
   "cell_type": "code",
   "execution_count": 171,
   "id": "10cf6eee",
   "metadata": {},
   "outputs": [
    {
     "name": "stdout",
     "output_type": "stream",
     "text": [
      "\n",
      " Matrix (M)  ==>  \n",
      " [[ 2  5  7]\n",
      " [ 8 10 15]\n",
      " [22 28 40]]\n",
      "\n",
      " Matrix (N)  ==>  \n",
      " [[40 28 22]\n",
      " [25 10  8]\n",
      " [ 7  5  2]]\n",
      "\n",
      " Matrix Division (M/N) ==> \n",
      " [[ 0.05        0.17857143  0.31818182]\n",
      " [ 0.32        1.          1.875     ]\n",
      " [ 3.14285714  5.6        20.        ]]\n",
      "\n",
      " Matrix Division (divide) ==> \n",
      " [[ 0.05        0.17857143  0.31818182]\n",
      " [ 0.32        1.          1.875     ]\n",
      " [ 3.14285714  5.6        20.        ]]\n"
     ]
    }
   ],
   "source": [
    "M= np.array([[2,5,7] , [8,10,15] , [22,28,40]])\n",
    "N= np.array([[40,28,22] , [25,10,8] , [7,5,2]])\n",
    "\n",
    "print(\"\\n Matrix (M)  ==>  \\n\", M)\n",
    "print(\"\\n Matrix (N)  ==>  \\n\", N)\n",
    "\n",
    "print(\"\\n Matrix Division (M/N) ==> \\n\" , M/N)\n",
    "print(\"\\n Matrix Division (divide) ==> \\n\" , np.divide(M,N))"
   ]
  },
  {
   "cell_type": "code",
   "execution_count": 172,
   "id": "f696b119",
   "metadata": {},
   "outputs": [
    {
     "name": "stdout",
     "output_type": "stream",
     "text": [
      "\n",
      " Matrix (M)  ==>  \n",
      " [[ 2  5  7]\n",
      " [ 8 10 15]\n",
      " [22 28 40]]\n",
      "\n",
      " Sum of all elements in a Matrix ==> \n",
      " 147\n"
     ]
    }
   ],
   "source": [
    "M= np.array([[2,5,7] , [8,10,15] , [22,28,40]])\n",
    "\n",
    "print(\"\\n Matrix (M)  ==>  \\n\", M)\n",
    "print(\"\\n Sum of all elements in a Matrix ==> \\n\" , np.sum(N))"
   ]
  },
  {
   "cell_type": "code",
   "execution_count": 173,
   "id": "c98c5124",
   "metadata": {},
   "outputs": [
    {
     "name": "stdout",
     "output_type": "stream",
     "text": [
      "\n",
      " Matrix (M)  ==>  \n",
      " [[ 2  5  7]\n",
      " [ 8 10 15]\n",
      " [22 28 40]]\n",
      "\n",
      "Column-Wise summation ==> \n",
      " [72 43 32]\n"
     ]
    }
   ],
   "source": [
    "M= np.array([[2,5,7] , [8,10,15] , [22,28,40]])\n",
    "\n",
    "print(\"\\n Matrix (M)  ==>  \\n\", M)\n",
    "\n",
    "print(\"\\nColumn-Wise summation ==> \\n\" , np.sum(N,axis=0))"
   ]
  },
  {
   "cell_type": "code",
   "execution_count": 174,
   "id": "4530d9f0",
   "metadata": {},
   "outputs": [
    {
     "name": "stdout",
     "output_type": "stream",
     "text": [
      "\n",
      " Matrix (M)  ==>  \n",
      " [[ 2  5  7]\n",
      " [ 8 10 15]\n",
      " [22 28 40]]\n",
      "\n",
      " Row-wise addition ==> \n",
      " [90 43 14]\n"
     ]
    }
   ],
   "source": [
    "M= np.array([[2,5,7] , [8,10,15] , [22,28,40]])\n",
    "\n",
    "print(\"\\n Matrix (M)  ==>  \\n\", M)\n",
    "\n",
    "print(\"\\n Row-wise addition ==> \\n\" , np.sum(N, axis=1))"
   ]
  },
  {
   "cell_type": "code",
   "execution_count": 175,
   "id": "7f5aa16b",
   "metadata": {},
   "outputs": [
    {
     "data": {
      "text/plain": [
       "array([[ 2,  5,  7],\n",
       "       [ 8, 10, 15],\n",
       "       [22, 28, 40]])"
      ]
     },
     "execution_count": 175,
     "metadata": {},
     "output_type": "execute_result"
    }
   ],
   "source": [
    "M= np.array([[2,5,7] , [8,10,15] , [22,28,40]])\n",
    "M"
   ]
  },
  {
   "cell_type": "code",
   "execution_count": 176,
   "id": "13594a20",
   "metadata": {},
   "outputs": [
    {
     "data": {
      "text/plain": [
       "array([[40, 28, 22],\n",
       "       [25, 10,  8],\n",
       "       [ 7,  5,  2]])"
      ]
     },
     "execution_count": 176,
     "metadata": {},
     "output_type": "execute_result"
    }
   ],
   "source": [
    "N= np.array([[40,28,22] , [25,10,8] , [7,5,2]])\n",
    "N"
   ]
  },
  {
   "cell_type": "code",
   "execution_count": 177,
   "id": "0c3a1e3b",
   "metadata": {},
   "outputs": [
    {
     "data": {
      "text/plain": [
       "array([[  80,   56,   44,  200,  140,  110,  280,  196,  154],\n",
       "       [  50,   20,   16,  125,   50,   40,  175,   70,   56],\n",
       "       [  14,   10,    4,   35,   25,   10,   49,   35,   14],\n",
       "       [ 320,  224,  176,  400,  280,  220,  600,  420,  330],\n",
       "       [ 200,   80,   64,  250,  100,   80,  375,  150,  120],\n",
       "       [  56,   40,   16,   70,   50,   20,  105,   75,   30],\n",
       "       [ 880,  616,  484, 1120,  784,  616, 1600, 1120,  880],\n",
       "       [ 550,  220,  176,  700,  280,  224, 1000,  400,  320],\n",
       "       [ 154,  110,   44,  196,  140,   56,  280,  200,   80]])"
      ]
     },
     "execution_count": 177,
     "metadata": {},
     "output_type": "execute_result"
    }
   ],
   "source": [
    "np.kron(M,N)"
   ]
  },
  {
   "cell_type": "code",
   "execution_count": 178,
   "id": "43e74085",
   "metadata": {},
   "outputs": [
    {
     "name": "stdout",
     "output_type": "stream",
     "text": [
      "Matrix Vector Multiplication ==> \n",
      " [[ 56  25  49]\n",
      " [224  50 105]\n",
      " [616 140 280]]\n"
     ]
    }
   ],
   "source": [
    "M= np.array([[2,5,7] , [8,10,15] , [22,28,40]])\n",
    "N= np.array([[28,5,7]])\n",
    "print(\"Matrix Vector Multiplication ==> \\n\" , M*N)"
   ]
  },
  {
   "cell_type": "code",
   "execution_count": 179,
   "id": "9effb54f",
   "metadata": {},
   "outputs": [
    {
     "name": "stdout",
     "output_type": "stream",
     "text": [
      "Matrix Vector Dot Multiplication ==> \n",
      " [ 130  379 1036]\n"
     ]
    }
   ],
   "source": [
    "M= np.array([[2,5,7] , [8,10,15] , [22,28,40]])\n",
    "N= np.array([28,5,7])\n",
    "print(\"Matrix Vector Dot Multiplication ==> \\n\" , M@N)"
   ]
  },
  {
   "cell_type": "code",
   "execution_count": 180,
   "id": "3a56968d",
   "metadata": {},
   "outputs": [
    {
     "data": {
      "text/plain": [
       "array([[ 2,  5,  7],\n",
       "       [ 8, 10, 15],\n",
       "       [22, 28, 40]])"
      ]
     },
     "execution_count": 180,
     "metadata": {},
     "output_type": "execute_result"
    }
   ],
   "source": [
    "M= np.array([[2,5,7] , [8,10,15] , [22,28,40]])\n",
    "M\n"
   ]
  },
  {
   "cell_type": "code",
   "execution_count": 181,
   "id": "ca928c83",
   "metadata": {},
   "outputs": [
    {
     "data": {
      "text/plain": [
       "array([[ 10562,  13882,  19986],\n",
       "       [ 23064,  30298,  43622],\n",
       "       [ 62204,  81712, 117646]])"
      ]
     },
     "execution_count": 181,
     "metadata": {},
     "output_type": "execute_result"
    }
   ],
   "source": [
    "M@M@M"
   ]
  },
  {
   "cell_type": "code",
   "execution_count": 182,
   "id": "6dd2b535",
   "metadata": {},
   "outputs": [
    {
     "data": {
      "text/plain": [
       "array([[ 10562,  13882,  19986],\n",
       "       [ 23064,  30298,  43622],\n",
       "       [ 62204,  81712, 117646]])"
      ]
     },
     "execution_count": 182,
     "metadata": {},
     "output_type": "execute_result"
    }
   ],
   "source": [
    "np.linalg.matrix_power(M,3)"
   ]
  },
  {
   "cell_type": "code",
   "execution_count": 183,
   "id": "6b0aa6fc",
   "metadata": {},
   "outputs": [
    {
     "data": {
      "text/plain": [
       "array([[[  1,   2,   3],\n",
       "        [  4,   5,   6],\n",
       "        [  7,   8,   9]],\n",
       "\n",
       "       [[ 10,  20,  30],\n",
       "        [ 40,  50,  60],\n",
       "        [ 70,  80,  90]],\n",
       "\n",
       "       [[100, 200, 300],\n",
       "        [400, 500, 600],\n",
       "        [700, 800, 900]]])"
      ]
     },
     "execution_count": 183,
     "metadata": {},
     "output_type": "execute_result"
    }
   ],
   "source": [
    "T1 = np.array([\n",
    "  [[1,2,3],    [4,5,6],    [7,8,9]],\n",
    "  [[10,20,30], [40,50,60], [70,80,90]],\n",
    "  [[100,200,300], [400,500,600], [700,800,900]],\n",
    "  ])\n",
    "\n",
    "T1"
   ]
  },
  {
   "cell_type": "code",
   "execution_count": 184,
   "id": "1e390b74",
   "metadata": {},
   "outputs": [
    {
     "data": {
      "text/plain": [
       "array([[[3, 3, 3],\n",
       "        [4, 4, 4],\n",
       "        [5, 5, 5]],\n",
       "\n",
       "       [[1, 1, 1],\n",
       "        [1, 1, 1],\n",
       "        [1, 1, 1]],\n",
       "\n",
       "       [[2, 2, 2],\n",
       "        [2, 2, 2],\n",
       "        [2, 2, 2]]])"
      ]
     },
     "execution_count": 184,
     "metadata": {},
     "output_type": "execute_result"
    }
   ],
   "source": [
    "T2 = np.array([\n",
    "  [[3,3,3] , [4,4,4] , [5,5,5]],\n",
    "  [[1,1,1] , [1,1,1] , [1,1,1]],\n",
    "  [[2,2,2] , [2,2,2] , [2,2,2]]\n",
    "    \n",
    "])\n",
    "\n",
    "T2"
   ]
  },
  {
   "cell_type": "code",
   "execution_count": 185,
   "id": "b8472185",
   "metadata": {},
   "outputs": [
    {
     "data": {
      "text/plain": [
       "array([[[  4,   5,   6],\n",
       "        [  8,   9,  10],\n",
       "        [ 12,  13,  14]],\n",
       "\n",
       "       [[ 11,  21,  31],\n",
       "        [ 41,  51,  61],\n",
       "        [ 71,  81,  91]],\n",
       "\n",
       "       [[102, 202, 302],\n",
       "        [402, 502, 602],\n",
       "        [702, 802, 902]]])"
      ]
     },
     "execution_count": 185,
     "metadata": {},
     "output_type": "execute_result"
    }
   ],
   "source": [
    "A= T1+T2\n",
    "A"
   ]
  },
  {
   "cell_type": "code",
   "execution_count": 186,
   "id": "4181f3a2",
   "metadata": {},
   "outputs": [
    {
     "data": {
      "text/plain": [
       "array([[[  4,   5,   6],\n",
       "        [  8,   9,  10],\n",
       "        [ 12,  13,  14]],\n",
       "\n",
       "       [[ 11,  21,  31],\n",
       "        [ 41,  51,  61],\n",
       "        [ 71,  81,  91]],\n",
       "\n",
       "       [[102, 202, 302],\n",
       "        [402, 502, 602],\n",
       "        [702, 802, 902]]])"
      ]
     },
     "execution_count": 186,
     "metadata": {},
     "output_type": "execute_result"
    }
   ],
   "source": [
    "np.add(T1,T2)"
   ]
  },
  {
   "cell_type": "code",
   "execution_count": 187,
   "id": "9ed251d4",
   "metadata": {},
   "outputs": [
    {
     "data": {
      "text/plain": [
       "array([[[ -2,  -1,   0],\n",
       "        [  0,   1,   2],\n",
       "        [  2,   3,   4]],\n",
       "\n",
       "       [[  9,  19,  29],\n",
       "        [ 39,  49,  59],\n",
       "        [ 69,  79,  89]],\n",
       "\n",
       "       [[ 98, 198, 298],\n",
       "        [398, 498, 598],\n",
       "        [698, 798, 898]]])"
      ]
     },
     "execution_count": 187,
     "metadata": {},
     "output_type": "execute_result"
    }
   ],
   "source": [
    "S=T1-T2\n",
    "S"
   ]
  },
  {
   "cell_type": "code",
   "execution_count": 188,
   "id": "22ac6168",
   "metadata": {},
   "outputs": [
    {
     "data": {
      "text/plain": [
       "array([[[ -2,  -1,   0],\n",
       "        [  0,   1,   2],\n",
       "        [  2,   3,   4]],\n",
       "\n",
       "       [[  9,  19,  29],\n",
       "        [ 39,  49,  59],\n",
       "        [ 69,  79,  89]],\n",
       "\n",
       "       [[ 98, 198, 298],\n",
       "        [398, 498, 598],\n",
       "        [698, 798, 898]]])"
      ]
     },
     "execution_count": 188,
     "metadata": {},
     "output_type": "execute_result"
    }
   ],
   "source": [
    "np.subtract(T1,T2)"
   ]
  },
  {
   "cell_type": "code",
   "execution_count": 191,
   "id": "1382dfea",
   "metadata": {},
   "outputs": [
    {
     "data": {
      "text/plain": [
       "array([[[   3,    6,    9],\n",
       "        [  16,   20,   24],\n",
       "        [  35,   40,   45]],\n",
       "\n",
       "       [[  10,   20,   30],\n",
       "        [  40,   50,   60],\n",
       "        [  70,   80,   90]],\n",
       "\n",
       "       [[ 200,  400,  600],\n",
       "        [ 800, 1000, 1200],\n",
       "        [1400, 1600, 1800]]])"
      ]
     },
     "execution_count": 191,
     "metadata": {},
     "output_type": "execute_result"
    }
   ],
   "source": [
    "P = T1*T2\n",
    "P"
   ]
  },
  {
   "cell_type": "code",
   "execution_count": 192,
   "id": "af8aad7e",
   "metadata": {},
   "outputs": [
    {
     "data": {
      "text/plain": [
       "array([[[   3,    6,    9],\n",
       "        [  16,   20,   24],\n",
       "        [  35,   40,   45]],\n",
       "\n",
       "       [[  10,   20,   30],\n",
       "        [  40,   50,   60],\n",
       "        [  70,   80,   90]],\n",
       "\n",
       "       [[ 200,  400,  600],\n",
       "        [ 800, 1000, 1200],\n",
       "        [1400, 1600, 1800]]])"
      ]
     },
     "execution_count": 192,
     "metadata": {},
     "output_type": "execute_result"
    }
   ],
   "source": [
    "np.multiply(T1,T2)"
   ]
  },
  {
   "cell_type": "code",
   "execution_count": 193,
   "id": "86921c82",
   "metadata": {},
   "outputs": [
    {
     "data": {
      "text/plain": [
       "array([[[3.33333333e-01, 6.66666667e-01, 1.00000000e+00],\n",
       "        [1.00000000e+00, 1.25000000e+00, 1.50000000e+00],\n",
       "        [1.40000000e+00, 1.60000000e+00, 1.80000000e+00]],\n",
       "\n",
       "       [[1.00000000e+01, 2.00000000e+01, 3.00000000e+01],\n",
       "        [4.00000000e+01, 5.00000000e+01, 6.00000000e+01],\n",
       "        [7.00000000e+01, 8.00000000e+01, 9.00000000e+01]],\n",
       "\n",
       "       [[5.00000000e+01, 1.00000000e+02, 1.50000000e+02],\n",
       "        [2.00000000e+02, 2.50000000e+02, 3.00000000e+02],\n",
       "        [3.50000000e+02, 4.00000000e+02, 4.50000000e+02]]])"
      ]
     },
     "execution_count": 193,
     "metadata": {},
     "output_type": "execute_result"
    }
   ],
   "source": [
    "D=T1/T2\n",
    "D"
   ]
  },
  {
   "cell_type": "code",
   "execution_count": 194,
   "id": "5b06276e",
   "metadata": {},
   "outputs": [
    {
     "data": {
      "text/plain": [
       "array([[[3.33333333e-01, 6.66666667e-01, 1.00000000e+00],\n",
       "        [1.00000000e+00, 1.25000000e+00, 1.50000000e+00],\n",
       "        [1.40000000e+00, 1.60000000e+00, 1.80000000e+00]],\n",
       "\n",
       "       [[1.00000000e+01, 2.00000000e+01, 3.00000000e+01],\n",
       "        [4.00000000e+01, 5.00000000e+01, 6.00000000e+01],\n",
       "        [7.00000000e+01, 8.00000000e+01, 9.00000000e+01]],\n",
       "\n",
       "       [[5.00000000e+01, 1.00000000e+02, 1.50000000e+02],\n",
       "        [2.00000000e+02, 2.50000000e+02, 3.00000000e+02],\n",
       "        [3.50000000e+02, 4.00000000e+02, 4.50000000e+02]]])"
      ]
     },
     "execution_count": 194,
     "metadata": {},
     "output_type": "execute_result"
    }
   ],
   "source": [
    "np.divide(T1,T2)"
   ]
  },
  {
   "cell_type": "code",
   "execution_count": 195,
   "id": "1ee3bd7c",
   "metadata": {},
   "outputs": [
    {
     "data": {
      "text/plain": [
       "array([[  89,   89,   89],\n",
       "       [ 890,  890,  890],\n",
       "       [8900, 8900, 8900]])"
      ]
     },
     "execution_count": 195,
     "metadata": {},
     "output_type": "execute_result"
    }
   ],
   "source": [
    "np.tensordot(T1,T2)"
   ]
  },
  {
   "cell_type": "code",
   "execution_count": 202,
   "id": "7e4a4f8d",
   "metadata": {},
   "outputs": [
    {
     "name": "stdout",
     "output_type": "stream",
     "text": [
      "Matrix  ==> \n",
      " [[4 2]\n",
      " [7 3]] \n",
      "\n",
      "Eigen Value :- \n",
      " [ 7.27491722 -0.27491722] \n",
      "\n",
      "Eigen Value :- \n",
      " [[ 0.52119606 -0.42376194]\n",
      " [ 0.85343697  0.9057736 ]] \n",
      "\n"
     ]
    }
   ],
   "source": [
    "M = np.array([[4, 2], [7, 3]])\n",
    "\n",
    "eigval, eigvec = np.linalg.eig(M)\n",
    "\n",
    "print (\"Matrix  ==> \\n\" , M, \"\\n\")\n",
    "\n",
    "\n",
    "print(f\"Eigen Value :- \\n {eigval} \\n\")\n",
    "\n",
    "print(f\"Eigen Value :- \\n {eigvec} \\n\")"
   ]
  },
  {
   "cell_type": "code",
   "execution_count": 203,
   "id": "0d82c0f6",
   "metadata": {},
   "outputs": [
    {
     "name": "stdout",
     "output_type": "stream",
     "text": [
      "\n",
      "[[-0.21049488  0.91877121  0.33399307]\n",
      " [-0.26501479  0.27522533 -0.92413104]\n",
      " [-0.94098835 -0.28303796  0.18555444]]\n",
      "\n",
      "\n",
      "[14.15442686  4.32564696  1.71492819]\n",
      "\n",
      "\n",
      "[[-0.59588687 -0.65449061 -0.46536101]\n",
      " [ 0.79485598 -0.39801344 -0.4580276 ]\n",
      " [ 0.11455483 -0.64282762  0.75739676]]\n",
      "\n"
     ]
    }
   ],
   "source": [
    "M = np.array([[1, 2], [3, 4], [5, 6]])\n",
    "U, s, V = np.linalg.svd(L) \n",
    "print(f\"\\n{U}\\n\")\n",
    "print(f\"\\n{s}\\n\")\n",
    "print(f\"\\n{V}\\n\")"
   ]
  },
  {
   "cell_type": "code",
   "execution_count": 204,
   "id": "418587d9",
   "metadata": {},
   "outputs": [
    {
     "name": "stdout",
     "output_type": "stream",
     "text": [
      "Q :- \n",
      "[[-0.16903085  0.89708523]\n",
      " [-0.50709255  0.27602622]\n",
      " [-0.84515425 -0.34503278]]\n",
      "\n",
      "R :- \n",
      "[[-5.91607978 -7.43735744]\n",
      " [ 0.          0.82807867]]\n",
      "\n"
     ]
    }
   ],
   "source": [
    "M = np.array([[1, 2], [3, 4], [5, 6]])\n",
    "\n",
    "Q, R = np.linalg.qr(M)\n",
    "\n",
    "print(f\"Q :- \\n{Q}\\n\")\n",
    "print(f\"R :- \\n{R}\\n\")"
   ]
  },
  {
   "cell_type": "code",
   "execution_count": 205,
   "id": "442fadf3",
   "metadata": {},
   "outputs": [
    {
     "name": "stdout",
     "output_type": "stream",
     "text": [
      "[[-0.94444444  0.44444444]\n",
      " [-0.11111111  0.11111111]\n",
      " [ 0.72222222 -0.22222222]]\n"
     ]
    }
   ],
   "source": [
    "M = np.array([[1, 2, 3], [4, 5, 6]])\n",
    "\n",
    "pinv_M = np.linalg.pinv(M)\n",
    "\n",
    "print(pinv_M)"
   ]
  }
 ],
 "metadata": {
  "kernelspec": {
   "display_name": "Python 3 (ipykernel)",
   "language": "python",
   "name": "python3"
  },
  "language_info": {
   "codemirror_mode": {
    "name": "ipython",
    "version": 3
   },
   "file_extension": ".py",
   "mimetype": "text/x-python",
   "name": "python",
   "nbconvert_exporter": "python",
   "pygments_lexer": "ipython3",
   "version": "3.13.7"
  }
 },
 "nbformat": 4,
 "nbformat_minor": 5
}
